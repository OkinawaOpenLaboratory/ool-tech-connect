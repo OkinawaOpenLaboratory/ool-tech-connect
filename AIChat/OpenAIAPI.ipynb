{
  "nbformat": 4,
  "nbformat_minor": 0,
  "metadata": {
    "colab": {
      "provenance": []
    },
    "kernelspec": {
      "name": "python3",
      "display_name": "Python 3"
    },
    "language_info": {
      "name": "python"
    }
  },
  "cells": [
    {
      "cell_type": "markdown",
      "source": [
        "←フォルダアイコンをクリック後、PDF ファイルをディレクトリ直下にアップロードしてください"
      ],
      "metadata": {
        "id": "Dqrg0_cDwEam"
      }
    },
    {
      "cell_type": "code",
      "execution_count": null,
      "metadata": {
        "id": "K8BBnsiYv9Yp"
      },
      "outputs": [],
      "source": [
        "#@title ライブラリのインストール\n",
        "!pip install typing-extensions==4.5.0 kaleido==0.2.1 cohere==4.32 langchain==0.0.330 openai==0.28.1 chromadb==0.4.15 pypdf==3.17.0 tiktoken==0.5.1 gradio==3.23.0"
      ]
    },
    {
      "cell_type": "code",
      "source": [],
      "metadata": {
        "id": "V7WK8wCvB9ai"
      },
      "execution_count": null,
      "outputs": []
    },
    {
      "cell_type": "code",
      "source": [
        "#@title PDFファイルの読み込み・ベクトルDBへの格納・検索方法の設定\n",
        "from langchain.chat_models import ChatOpenAI\n",
        "from langchain import PromptTemplate\n",
        "from langchain.document_loaders import PyPDFLoader\n",
        "from langchain.text_splitter import RecursiveCharacterTextSplitter\n",
        "from langchain.embeddings import OpenAIEmbeddings\n",
        "from langchain.vectorstores import Chroma\n",
        "from langchain.chains import RetrievalQA\n",
        "import os\n",
        "import fnmatch\n",
        "\n",
        "# OpenAIのAPIキーを設定\n",
        "APIKey = \"\"#@param {type:\"string\"}\n",
        "os.environ[\"OPENAI_API_KEY\"] = APIKey\n",
        "\n",
        "# LLMのモデルを設定\n",
        "LLM=ChatOpenAI(model_name=\"gpt-3.5-turbo\")\n",
        "\n",
        "# プロンプトテンプレートの設定\n",
        "prompt_template = \"\"\"\n",
        "あなたは親切で優しいアシスタントです。丁寧に、日本語でお答えください！\n",
        "以下の文脈を利用して最後の質問に答えてください。答えを知らない場合は、答えを作成しようとせずに「わかりません」と回答してください。\n",
        "\n",
        "{context}\n",
        "\n",
        "質問：{question}\n",
        "回答：\n",
        "\"\"\"\n",
        "\n",
        "PROMPT = PromptTemplate(\n",
        "    template=prompt_template,\n",
        "    #input_variables=[\"question\"],\n",
        "    input_variables=[\"context\", \"question\"]\n",
        ")\n",
        "\n",
        "for file in os.listdir('./'):\n",
        "  if fnmatch.fnmatch(file, '*.pdf'):\n",
        "    print (\"PDF : \",file)\n",
        "    # PDFファイルの読み込み\n",
        "    loader = PyPDFLoader(file)\n",
        "    documents = loader.load()\n",
        "    # 読み込んだ文章の分割\n",
        "    text_splitter = RecursiveCharacterTextSplitter(chunk_size=1000, chunk_overlap=0)\n",
        "    texts = text_splitter.split_documents(documents)\n",
        "    # ベクトルDBへの格納\n",
        "    embeddings = OpenAIEmbeddings()\n",
        "    vectordb = Chroma.from_documents(texts, embeddings)\n",
        "\n",
        "# 検索方法の設定\n",
        "qa = RetrievalQA.from_chain_type(\n",
        "    llm=LLM,\n",
        "    chain_type=\"stuff\",\n",
        "    retriever=vectordb.as_retriever(),\n",
        "    chain_type_kwargs={\"prompt\": PROMPT}\n",
        ")"
      ],
      "metadata": {
        "id": "xV3zMucLw73h"
      },
      "execution_count": null,
      "outputs": []
    },
    {
      "cell_type": "code",
      "source": [
        "#@title プロンプト入力用WebUIの起動\n",
        "import gradio as gr\n",
        "\n",
        "# メッセージ送信された時の処理\n",
        "def msg_submit(history, message):\n",
        "    history = history + [(message, None)]\n",
        "    return history, \"\"\n",
        "\n",
        "# ボットの回答出力処理\n",
        "def bot(history):\n",
        "    query = history[-1][0]\n",
        "    answer = qa.run(query)\n",
        "    history[-1][1] = answer\n",
        "    return history\n",
        "\n",
        "# UI設定\n",
        "with gr.Blocks() as webui:\n",
        "    chatbot = gr.Chatbot([], elem_id=\"chatbot\")\n",
        "\n",
        "    with gr.Row():\n",
        "        with gr.Column(scale=0.6):\n",
        "            msg = gr.Textbox(\n",
        "                show_label=False,\n",
        "                placeholder=\"質問内容を入力後、Enterキーで送信\",\n",
        "            )\n",
        "\n",
        "    msg.submit(msg_submit, [chatbot, msg], [chatbot, msg]).then(\n",
        "        bot, chatbot, chatbot\n",
        "    )\n",
        "\n",
        "#　UI起動\n",
        "webui.launch(share=True)"
      ],
      "metadata": {
        "id": "GgIyOYL7xIYI"
      },
      "execution_count": null,
      "outputs": []
    }
  ]
}